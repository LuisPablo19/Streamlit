{
  "nbformat": 4,
  "nbformat_minor": 0,
  "metadata": {
    "colab": {
      "provenance": [],
      "authorship_tag": "ABX9TyMMsPoGYBq87BL0nmZmI90a",
      "include_colab_link": true
    },
    "kernelspec": {
      "name": "python3",
      "display_name": "Python 3"
    },
    "language_info": {
      "name": "python"
    }
  },
  "cells": [
    {
      "cell_type": "markdown",
      "metadata": {
        "id": "view-in-github",
        "colab_type": "text"
      },
      "source": [
        "<a href=\"https://colab.research.google.com/github/LuisPablo19/Streamlit/blob/main/Streamlit.ipynb\" target=\"_parent\"><img src=\"https://colab.research.google.com/assets/colab-badge.svg\" alt=\"Open In Colab\"/></a>"
      ]
    },
    {
      "cell_type": "markdown",
      "source": [
        "#**Streamlit**\n",
        "##Luis Pablo Padilla Barbosa\n",
        "##A00572040"
      ],
      "metadata": {
        "id": "r7G0WeWdgYul"
      }
    },
    {
      "cell_type": "code",
      "execution_count": null,
      "metadata": {
        "id": "fP1OelrSgUa7"
      },
      "outputs": [],
      "source": [
        "import streamlit as st\n",
        "st.write(\"Hola Mundo!!!\")"
      ]
    }
  ]
}